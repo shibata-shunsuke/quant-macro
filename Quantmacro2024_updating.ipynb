{
  "nbformat": 4,
  "nbformat_minor": 0,
  "metadata": {
    "colab": {
      "provenance": [],
      "include_colab_link": true
    },
    "kernelspec": {
      "name": "python3",
      "display_name": "Python 3"
    },
    "language_info": {
      "name": "python"
    }
  },
  "cells": [
    {
      "cell_type": "markdown",
      "metadata": {
        "id": "view-in-github",
        "colab_type": "text"
      },
      "source": [
        "<a href=\"https://colab.research.google.com/github/shibata-shunsuke/quant-macro/blob/main/Quantmacro2024_updating.ipynb\" target=\"_parent\"><img src=\"https://colab.research.google.com/assets/colab-badge.svg\" alt=\"Open In Colab\"/></a>"
      ]
    },
    {
      "cell_type": "code",
      "source": [
        "import numpy as np\n",
        "from scipy.stats import norm\n",
        "\n",
        "def tauchen(n, mu, rho, sigma):\n",
        "\n",
        "    # n: number of grid points\n",
        "    # mu: mean of the AR(1) process\n",
        "    # rho: AR(1) coeffient\n",
        "    # sigma: standard deviatin of the error term\n",
        "\n",
        "    m = 1 / np.sqrt(1 - rho**2)\n",
        "\n",
        "    # compute the state space\n",
        "    state_space = np.linspace(mu - m*sigma, mu + m*sigma, n)\n",
        "\n",
        "    # compute the distance between grid points\n",
        "    d = (state_space[n-1] - state_space[0]) / (n-1)\n",
        "\n",
        "    # compute the transition probabilities\n",
        "    transition_matrix = np.zeros((n, n))\n",
        "\n",
        "    for i in range(n):\n",
        "        for j in range(n):\n",
        "            if j==0:\n",
        "                transition_matrix[i, 0] = norm.cdf((state_space[0] - rho*state_space[i] + d/2)/sigma)\n",
        "            elif j==n-1:\n",
        "                transition_matrix[i, n-1] = 1.0 - norm.cdf((state_space[n-1] - rho*state_space[i] - d/2)/sigma)\n",
        "            else:\n",
        "                transition_matrix[i, j] = norm.cdf((state_space[j] - rho*state_space[i] + d/2)/sigma) - norm.cdf((state_space[j] - rho*state_space[i] - d/2)/sigma)\n",
        "\n",
        "    return transition_matrix, state_space\n"
      ],
      "metadata": {
        "id": "pDApLarfLFZf"
      },
      "execution_count": null,
      "outputs": []
    },
    {
      "cell_type": "code",
      "source": [
        "# function to compile parameters into one thing \"param\"\n",
        "def setPar(\n",
        "    sigma = 1.5, # risk aversion\n",
        "    beta = 0.98, # subject discount factor\n",
        "    rho = 0.6, # labor productivity persistence\n",
        "    sigma_eps = 0.384, # labor productivity std\n",
        "    a_l = 0, # lower bound of asset grids\n",
        "    a_u = 20, # upper bound of asset grids\n",
        "    NA = 401, # number of grids of a\n",
        "    NH = 2, # number of grids of h\n",
        "    mu_h = -0.7, # mean of log h\n",
        "    ):\n",
        "\n",
        "    # # create a grid of asset holdings\n",
        "    # a = np.linspace(a_l, a_u, NA)\n",
        "\n",
        "    pi, h = tauchen(NH, mu_h, rho, sigma_eps)\n",
        "    h = np.exp(h)\n",
        "\n",
        "    # create dictionary with parameters\n",
        "    param = {}\n",
        "    param['sigma'] = sigma\n",
        "    param['beta'] = beta\n",
        "    param['pi'] = pi\n",
        "    param['h'] = h\n",
        "\n",
        "    return param\n"
      ],
      "metadata": {
        "id": "YxUfgo3-Mz9Y"
      },
      "execution_count": null,
      "outputs": []
    },
    {
      "cell_type": "code",
      "source": [
        "param = setPar(beta = 0.5)\n",
        "display(param)"
      ],
      "metadata": {
        "colab": {
          "base_uri": "https://localhost:8080/",
          "height": 105
        },
        "id": "XfNyXAQFNjiu",
        "outputId": "6e64211c-ecb5-4b55-9ede-ec7c27b45ec3"
      },
      "execution_count": null,
      "outputs": [
        {
          "output_type": "display_data",
          "data": {
            "text/plain": [
              "{'sigma': 1.5,\n",
              " 'beta': 0.5,\n",
              " 'pi': array([[0.5083107 , 0.4916893 ],\n",
              "        [0.06954789, 0.93045211]]),\n",
              " 'h': array([0.30727874, 0.8025188 ])}"
            ]
          },
          "metadata": {}
        }
      ]
    },
    {
      "cell_type": "code",
      "source": [
        "def solve_household(param):\n",
        "    # opening the box of param\n",
        "    NA = param['NA']\n",
        "    NH = param['NH']\n",
        "\n",
        "    # Initialize some variables\n",
        "    v = np.zeros((NA, NH))\n",
        "\n",
        "    # iterate on bellman's equation and get the decision rules and the value function\n",
        "    for ia in range(NA):\n",
        "        for ih in range(NH):\n",
        "            reward[:, ia, ih] = util[:, ia, ih] + beta*(pi[ih, 0]*v[:, 0] + pi[ih, 1]*v[:, 1])\n"
      ],
      "metadata": {
        "id": "zLi4mmG3R8Az"
      },
      "execution_count": null,
      "outputs": []
    },
    {
      "cell_type": "code",
      "execution_count": null,
      "metadata": {
        "id": "Jba1fVeeZJ65"
      },
      "outputs": [],
      "source": [
        "# setting prices\n",
        "r = 0.04 # interest rate\n",
        "w = 1 # wage\n",
        "\n",
        "param = setPar()\n",
        "\n",
        "\n",
        "\n"
      ]
    },
    {
      "cell_type": "code",
      "source": [],
      "metadata": {
        "id": "evFmvop6KN00"
      },
      "execution_count": null,
      "outputs": []
    }
  ]
}