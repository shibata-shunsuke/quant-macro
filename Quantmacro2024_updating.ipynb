{
  "nbformat": 4,
  "nbformat_minor": 0,
  "metadata": {
    "colab": {
      "provenance": [],
      "include_colab_link": true
    },
    "kernelspec": {
      "name": "python3",
      "display_name": "Python 3"
    },
    "language_info": {
      "name": "python"
    }
  },
  "cells": [
    {
      "cell_type": "markdown",
      "metadata": {
        "id": "view-in-github",
        "colab_type": "text"
      },
      "source": [
        "<a href=\"https://colab.research.google.com/github/shibata-shunsuke/quant-macro/blob/main/Quantmacro2024_updating.ipynb\" target=\"_parent\"><img src=\"https://colab.research.google.com/assets/colab-badge.svg\" alt=\"Open In Colab\"/></a>"
      ]
    },
    {
      "cell_type": "code",
      "source": [
        "# setting function\n",
        "import numpy as np #to load a calculation tool \"numpy\", and call it as \"np\" to cut the name\n",
        "from scipy.stats import norm #scipy の category \"stats\" の中 norm だけ引き出す\n",
        "\n",
        "def tauchen (h, rho, sigma): #改行したら、マス開けないと別コード扱いされる\n",
        "    m = 1 / np.sqrt(1 - rho**2) # wtrite \"np.\" to indicate that using the tool \"sqrt\"\n",
        "    state_space = linespace (mu - m*sigma, mu + m*sigma, n) #μをいじることで任意の誤差を左右にずらせるよう設定\n",
        "    d = (state_space[n-1] - state_spavce[0]/ (n-1)) #python は0スタート 1期目はn=o\n",
        "\n",
        "    transition_matrix = np.zeros((n,n)) #index以外はn*n表記(個数は普通でok)\n",
        "\n",
        "    transition_matrix[0, 0] = norm.cdf((state_matrix[0] - rho*state_space[0] + d/2)/sigma)\n",
        "    for j in range(n):\n"
      ],
      "metadata": {
        "id": "N_Up90xDLGy9"
      },
      "execution_count": 30,
      "outputs": []
    },
    {
      "cell_type": "code",
      "execution_count": 13,
      "metadata": {
        "id": "Jba1fVeeZJ65"
      },
      "outputs": [],
      "source": [
        "# setting prices\n",
        "r = 0.04 # net interest rate\n",
        "w = 1 # wage"
      ]
    },
    {
      "cell_type": "code",
      "source": [
        "r"
      ],
      "metadata": {
        "colab": {
          "base_uri": "https://localhost:8080/"
        },
        "id": "Km6FjKXMKJok",
        "outputId": "77ac62de-0f2e-46dc-8e1f-13bff9bda189"
      },
      "execution_count": 4,
      "outputs": [
        {
          "output_type": "execute_result",
          "data": {
            "text/plain": [
              "0.04"
            ]
          },
          "metadata": {},
          "execution_count": 4
        }
      ]
    },
    {
      "cell_type": "code",
      "source": [
        "w"
      ],
      "metadata": {
        "colab": {
          "base_uri": "https://localhost:8080/"
        },
        "id": "A5bv6F7MKXUG",
        "outputId": "ba272ebd-595e-4054-bfa9-7edaf0ca31f6"
      },
      "execution_count": 14,
      "outputs": [
        {
          "output_type": "execute_result",
          "data": {
            "text/plain": [
              "1"
            ]
          },
          "metadata": {},
          "execution_count": 14
        }
      ]
    },
    {
      "cell_type": "code",
      "source": [
        "  #tauchen (1, 3, 8)\n",
        "  t = np.zeros(3)\n",
        "  t"
      ],
      "metadata": {
        "colab": {
          "base_uri": "https://localhost:8080/"
        },
        "id": "j3k8gqF_MDQl",
        "outputId": "83f74c02-f3c6-416f-8724-5aca5c7820bd"
      },
      "execution_count": 28,
      "outputs": [
        {
          "output_type": "execute_result",
          "data": {
            "text/plain": [
              "array([0., 0., 0.])"
            ]
          },
          "metadata": {},
          "execution_count": 28
        }
      ]
    },
    {
      "cell_type": "code",
      "source": [
        "norm.cdf(0) # normal distribution の累積確率密度"
      ],
      "metadata": {
        "colab": {
          "base_uri": "https://localhost:8080/"
        },
        "id": "ADgmo_HcSNKS",
        "outputId": "61b25daa-5808-4ddc-e366-c07ef57fe171"
      },
      "execution_count": 36,
      "outputs": [
        {
          "output_type": "execute_result",
          "data": {
            "text/plain": [
              "0.5"
            ]
          },
          "metadata": {},
          "execution_count": 36
        }
      ]
    }
  ]
}